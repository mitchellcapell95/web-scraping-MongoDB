{
 "cells": [
  {
   "cell_type": "code",
   "execution_count": 26,
   "metadata": {},
   "outputs": [],
   "source": [
    "#Import our dependencies\n",
    "\n",
    "import pandas as pd\n",
    "from bs4 import BeautifulSoup\n",
    "import requests\n",
    "import pymongo\n",
    "from splinter import Browser\n"
   ]
  },
  {
   "cell_type": "code",
   "execution_count": 27,
   "metadata": {},
   "outputs": [],
   "source": [
    "# Scrape the NASA Mars News Site and collect the latest News Title and Paragraph Text. \n",
    "# Assign the text to variables that you can reference later.\n",
    "\n",
    "mars_data = {}\n",
    "\n",
    "url1 = \"https://mars.nasa.gov/news/?page=0&per_page=40&order=publish_date+desc%2Ccreated_at+desc&search=&category=19%2C165%2C184%2C204&blank_scope=Latest\"\n",
    "\n",
    "response1 = requests.get(url1)\n",
    "\n",
    "soup1 = BeautifulSoup(response1.text,'html.parser')\n",
    "\n"
   ]
  },
  {
   "cell_type": "code",
   "execution_count": 28,
   "metadata": {},
   "outputs": [],
   "source": [
    "# Collect latest news title and save it to a variable\n",
    "\n",
    "results = soup1.find_all('div', class_=\"content_title\")"
   ]
  },
  {
   "cell_type": "code",
   "execution_count": 29,
   "metadata": {},
   "outputs": [],
   "source": [
    "latest = results[0]\n",
    "mars_data[\"latest_title\"] = latest.a.text.strip()"
   ]
  },
  {
   "cell_type": "code",
   "execution_count": 30,
   "metadata": {},
   "outputs": [],
   "source": [
    "# Collect latest news paragraph and save it to a variable\n",
    "results2 = soup1.find_all('div', class_=\"rollover_description_inner\")"
   ]
  },
  {
   "cell_type": "code",
   "execution_count": 31,
   "metadata": {},
   "outputs": [],
   "source": [
    "paragraphs = []\n",
    "\n",
    "for row in results2:\n",
    "    paragraphs.append(row.text)\n",
    "\n",
    "mars_data[\"latest_p\"] = paragraphs[0].strip()"
   ]
  },
  {
   "cell_type": "code",
   "execution_count": 32,
   "metadata": {},
   "outputs": [],
   "source": [
    "# JPL Mars Space Images - Featured Image - Jake Matijevic Rock\n",
    "\n",
    "executable_path = {'executable_path': 'chromedriver.exe'}\n",
    "browser = Browser('chrome', **executable_path, headless=False)\n",
    "\n",
    "url2 = \"https://www.jpl.nasa.gov/spaceimages/?search=&category=Mars\"\n",
    "browser.visit(url2)"
   ]
  },
  {
   "cell_type": "code",
   "execution_count": 33,
   "metadata": {},
   "outputs": [],
   "source": [
    "for x in range(0,1):\n",
    "\n",
    "    html = browser.html\n",
    "    soup2 = BeautifulSoup(html, 'html.parser')\n",
    "    articles = soup2.find_all('article',class_=\"carousel_item\")\n",
    "    \n",
    "    for article in articles:\n",
    "        link = article.find('a')\n",
    "        href = link['data-fancybox-href']\n"
   ]
  },
  {
   "cell_type": "code",
   "execution_count": 34,
   "metadata": {},
   "outputs": [],
   "source": [
    "mars_data[\"featured_image_url\"] = 'https://www.jpl.nasa.gov' + href"
   ]
  },
  {
   "cell_type": "code",
   "execution_count": 35,
   "metadata": {},
   "outputs": [],
   "source": [
    "# Scrape 'Mars Weather' Twitter Account - Weather in latest tweet\n",
    "\n",
    "url3 = 'https://twitter.com/marswxreport?lang=en'\n",
    "\n",
    "response2 = requests.get(url3)\n",
    "\n",
    "soup3 = BeautifulSoup(response2.text,'html.parser')\n"
   ]
  },
  {
   "cell_type": "code",
   "execution_count": 36,
   "metadata": {},
   "outputs": [],
   "source": [
    "results3 = soup3.find_all('p', class_=\"TweetTextSize TweetTextSize--normal js-tweet-text tweet-text\")"
   ]
  },
  {
   "cell_type": "code",
   "execution_count": 37,
   "metadata": {},
   "outputs": [],
   "source": [
    "weather = []\n",
    "\n",
    "for row in results3:\n",
    "    weather.append(row.text)\n",
    "\n",
    "mars_data[\"mars_weather\"] = weather[0].replace('\\n',', ').replace('pic.twitter.com/NO4iCrXgrl','.')"
   ]
  },
  {
   "cell_type": "code",
   "execution_count": 38,
   "metadata": {},
   "outputs": [],
   "source": [
    "# Scrape Mars Facts website for table to pandas dataframe - convert pandas df to html\n",
    "\n",
    "url4 = 'https://space-facts.com/mars/'\n",
    "tables = pd.read_html(url4)\n",
    "mars_table = tables[0]\n",
    "mars_table2 = mars_table.rename(columns={0:\"Description\",1:\"Value\"}).set_index(\"Description\")"
   ]
  },
  {
   "cell_type": "code",
   "execution_count": 39,
   "metadata": {},
   "outputs": [],
   "source": [
    "mars_table2.to_html('mars_facts.html')\n",
    "mars_html_table = mars_table2.replace(\"\\n\", \"\")\n",
    "mars_data[\"mars_facts\"] = mars_html_table"
   ]
  },
  {
   "cell_type": "code",
   "execution_count": 40,
   "metadata": {},
   "outputs": [],
   "source": [
    "# Mars Hemispheres\n",
    "\n",
    "#'https://astrogeology.usgs.gov/search/results?q=hemisphere+enhanced&k1=target&v1=Mars'"
   ]
  },
  {
   "cell_type": "code",
   "execution_count": 41,
   "metadata": {},
   "outputs": [],
   "source": [
    "url5 = 'https://astrogeology.usgs.gov/search/map/Mars/Viking/cerberus_enhanced'\n",
    "\n",
    "response3 = requests.get(url5)\n",
    "\n",
    "soup4 = BeautifulSoup(response3.text,'html.parser')\n"
   ]
  },
  {
   "cell_type": "code",
   "execution_count": 42,
   "metadata": {},
   "outputs": [],
   "source": [
    "mars_data[\"cerb_title\"] = soup4.find_all('h2')[0].text\n",
    "cerb_img = soup4.find_all('div',class_=\"wide-image-wrapper\")\n",
    "for images in cerb_img:\n",
    "    link = images.find('a')\n",
    "    mars_data[\"cerb_jpg\"] = link['href']\n"
   ]
  },
  {
   "cell_type": "code",
   "execution_count": 43,
   "metadata": {},
   "outputs": [],
   "source": [
    "url6 = 'https://astrogeology.usgs.gov/search/map/Mars/Viking/schiaparelli_enhanced'\n",
    "\n",
    "response4 = requests.get(url6)\n",
    "\n",
    "soup5 = BeautifulSoup(response4.text,'html.parser')\n"
   ]
  },
  {
   "cell_type": "code",
   "execution_count": 44,
   "metadata": {},
   "outputs": [],
   "source": [
    "mars_data[\"schi_title\"] = soup5.find_all('h2')[0].text\n",
    "schi_img = soup5.find_all('div',class_=\"wide-image-wrapper\")\n",
    "for images in schi_img:\n",
    "    link = images.find('a')\n",
    "    mars_data[\"schi_jpg\"] = link['href']"
   ]
  },
  {
   "cell_type": "code",
   "execution_count": 45,
   "metadata": {},
   "outputs": [],
   "source": [
    "url7 = 'https://astrogeology.usgs.gov/search/map/Mars/Viking/syrtis_major_enhanced'\n",
    "\n",
    "response5 = requests.get(url7)\n",
    "\n",
    "soup6 = BeautifulSoup(response5.text,'html.parser')\n"
   ]
  },
  {
   "cell_type": "code",
   "execution_count": 46,
   "metadata": {},
   "outputs": [],
   "source": [
    "mars_data[\"syr_title\"] = soup6.find_all('h2')[0].text\n",
    "syr_img = soup6.find_all('div',class_=\"wide-image-wrapper\")\n",
    "for images in syr_img:\n",
    "    link = images.find('a')\n",
    "    mars_data[\"syr_jpg\"] = link['href']"
   ]
  },
  {
   "cell_type": "code",
   "execution_count": 47,
   "metadata": {},
   "outputs": [],
   "source": [
    "url8 = 'https://astrogeology.usgs.gov/search/map/Mars/Viking/valles_marineris_enhanced'\n",
    "\n",
    "response6 = requests.get(url8)\n",
    "\n",
    "soup7 = BeautifulSoup(response6.text,'html.parser')\n"
   ]
  },
  {
   "cell_type": "code",
   "execution_count": 48,
   "metadata": {},
   "outputs": [],
   "source": [
    "mars_data[\"vall_title\"] = soup7.find_all('h2')[0].text\n",
    "vall_img = soup7.find_all('div',class_=\"wide-image-wrapper\")\n",
    "for images in vall_img:\n",
    "    link = images.find('a')\n",
    "    mars_data[\"vall_jpg\"] = link['href']\n",
    "    "
   ]
  },
  {
   "cell_type": "code",
   "execution_count": 49,
   "metadata": {},
   "outputs": [
    {
     "data": {
      "text/plain": [
       "{'latest_title': 'NASA Invites Students to Name Mars 2020 Rover',\n",
       " 'latest_p': \"Through Nov. 1, K-12 students in the U.S. are encouraged to enter an essay contest to name NASA's next Mars rover.\",\n",
       " 'featured_image_url': 'https://www.jpl.nasa.gov/spaceimages/images/mediumsize/PIA16565_ip.jpg',\n",
       " 'mars_weather': 'InSight sol 342 (2019-11-13) low -99.9ºC (-147.8ºF) high -23.3ºC (-9.9ºF), winds from the SW at 5.2 m/s (11.7 mph) gusting to 20.5 m/s (46.0 mph), pressure at 6.90 hPa.',\n",
       " 'mars_facts':                                               Value\n",
       " Description                                        \n",
       " Equatorial Diameter:                       6,792 km\n",
       " Polar Diameter:                            6,752 km\n",
       " Mass:                 6.39 × 10^23 kg (0.11 Earths)\n",
       " Moons:                          2 (Phobos & Deimos)\n",
       " Orbit Distance:            227,943,824 km (1.38 AU)\n",
       " Orbit Period:                  687 days (1.9 years)\n",
       " Surface Temperature:                   -87 to -5 °C\n",
       " First Record:                     2nd millennium BC\n",
       " Recorded By:                   Egyptian astronomers,\n",
       " 'cerb_title': 'Cerberus Hemisphere Enhanced',\n",
       " 'cerb_jpg': 'http://astropedia.astrogeology.usgs.gov/download/Mars/Viking/cerberus_enhanced.tif/full.jpg',\n",
       " 'schi_title': 'Schiaparelli Hemisphere Enhanced',\n",
       " 'schi_jpg': 'http://astropedia.astrogeology.usgs.gov/download/Mars/Viking/schiaparelli_enhanced.tif/full.jpg',\n",
       " 'syr_title': 'Syrtis Major Hemisphere Enhanced',\n",
       " 'syr_jpg': 'http://astropedia.astrogeology.usgs.gov/download/Mars/Viking/syrtis_major_enhanced.tif/full.jpg',\n",
       " 'vall_title': 'Valles Marineris Hemisphere Enhanced',\n",
       " 'vall_jpg': 'http://astropedia.astrogeology.usgs.gov/download/Mars/Viking/valles_marineris_enhanced.tif/full.jpg'}"
      ]
     },
     "execution_count": 49,
     "metadata": {},
     "output_type": "execute_result"
    }
   ],
   "source": [
    "mars_data"
   ]
  },
  {
   "cell_type": "code",
   "execution_count": null,
   "metadata": {},
   "outputs": [],
   "source": []
  },
  {
   "cell_type": "code",
   "execution_count": null,
   "metadata": {},
   "outputs": [],
   "source": []
  }
 ],
 "metadata": {
  "kernelspec": {
   "display_name": "Python 3",
   "language": "python",
   "name": "python3"
  },
  "language_info": {
   "codemirror_mode": {
    "name": "ipython",
    "version": 3
   },
   "file_extension": ".py",
   "mimetype": "text/x-python",
   "name": "python",
   "nbconvert_exporter": "python",
   "pygments_lexer": "ipython3",
   "version": "3.7.3"
  }
 },
 "nbformat": 4,
 "nbformat_minor": 2
}
